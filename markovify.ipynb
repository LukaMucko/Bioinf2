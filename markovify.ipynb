{
 "cells": [
  {
   "cell_type": "code",
   "execution_count": 54,
   "metadata": {},
   "outputs": [
    {
     "name": "stdout",
     "output_type": "stream",
     "text": [
      "The autoreload extension is already loaded. To reload it, use:\n",
      "  %reload_ext autoreload\n"
     ]
    }
   ],
   "source": [
    "%load_ext autoreload\n",
    "%autoreload 2\n",
    "import markovify\n",
    "from Bio import SeqIO "
   ]
  },
  {
   "cell_type": "code",
   "execution_count": 57,
   "metadata": {},
   "outputs": [
    {
     "name": "stdout",
     "output_type": "stream",
     "text": [
      "Genome loaded: 4641652 bases\n",
      "Number of 6-mers: 4641647\n"
     ]
    }
   ],
   "source": [
    "def load_genome(filepath):\n",
    "    \"\"\"\n",
    "    Load a genome sequence from a FASTA file.\n",
    "    \"\"\"\n",
    "    for record in SeqIO.parse(filepath, \"fasta\"):\n",
    "        return str(record.seq)\n",
    "\n",
    "def generate_kmers(sequence, k):\n",
    "    \"\"\"\n",
    "    Generate k-mers from a given sequence.\n",
    "    \"\"\"\n",
    "    return [sequence[i:i+k] for i in range(len(sequence) - k + 1)]\n",
    "\n",
    "# Load the genome (update the path to the actual file)\n",
    "genome = load_genome(\"escherichia_coli_reference.fasta\")\n",
    "print(f\"Genome loaded: {len(genome)} bases\")\n",
    "\n",
    "k = 6  # Length of k-mers\n",
    "kmers = generate_kmers(genome, k)\n",
    "\n",
    "print(f\"Number of {k}-mers: {len(kmers)}\")"
   ]
  },
  {
   "cell_type": "code",
   "execution_count": 58,
   "metadata": {},
   "outputs": [
    {
     "data": {
      "text/plain": [
       "<markovify.chain.Chain at 0x7fcb0c7945e0>"
      ]
     },
     "execution_count": 58,
     "metadata": {},
     "output_type": "execute_result"
    }
   ],
   "source": [
    "text_model = markovify.Chain([kmers], state_size=1)\n",
    "text_model.compile(inplace=True)"
   ]
  },
  {
   "cell_type": "code",
   "execution_count": 59,
   "metadata": {},
   "outputs": [],
   "source": [
    "sample = text_model.walk()"
   ]
  },
  {
   "cell_type": "code",
   "execution_count": 60,
   "metadata": {},
   "outputs": [
    {
     "data": {
      "text/plain": [
       "15855787"
      ]
     },
     "execution_count": 60,
     "metadata": {},
     "output_type": "execute_result"
    }
   ],
   "source": [
    "len(sample)"
   ]
  },
  {
   "cell_type": "code",
   "execution_count": 61,
   "metadata": {},
   "outputs": [
    {
     "name": "stdout",
     "output_type": "stream",
     "text": [
      "['AGCTTT', 'GCTTTC', 'CTTTCG', 'TTTCGA', 'TTCGAT', 'TCGATC', 'CGATCA', 'GATCAC', 'ATCACC', 'TCACCA', 'CACCAT', 'ACCATG', 'CCATGC', 'CATGCC', 'ATGCCA', 'TGCCAA', 'GCCAAT', 'CCAATG', 'CAATGT', 'AATGTA', 'ATGTAG', 'TGTAGT', 'GTAGTC', 'TAGTCC', 'AGTCCA', 'GTCCAT', 'TCCATT', 'CCATTT', 'CATTTC', 'ATTTCA', 'TTTCAC', 'TTCACG', 'TCACGG', 'CACGGC', 'ACGGCA', 'CGGCAT', 'GGCATG', 'GCATGA', 'CATGAC', 'ATGACT', 'TGACTG', 'GACTGG', 'ACTGGA', 'CTGGAA', 'TGGAAG', 'GGAAGT', 'GAAGTG', 'AAGTGG', 'AGTGGA', 'GTGGAT', 'TGGATA', 'GGATAC', 'GATACG', 'ATACGG', 'TACGGC', 'ACGGCT', 'CGGCTT', 'GGCTTC', 'GCTTCG', 'CTTCGA', 'TTCGAT', 'TCGATT', 'CGATTT', 'GATTTT', 'ATTTTC', 'TTTTCT', 'TTTCTT', 'TTCTTC', 'TCTTCA', 'CTTCAG', 'TTCAGA', 'TCAGAT', 'CAGATA', 'AGATAT', 'GATATG', 'ATATGC', 'TATGCC', 'ATGCCT', 'TGCCTC', 'GCCTCG', 'CCTCGG', 'CTCGGC', 'TCGGCC', 'CGGCCT', 'GGCCTC', 'GCCTCC', 'CCTCCA', 'CTCCAG', 'TCCAGA', 'CCAGAC', 'CAGACG', 'AGACGC', 'GACGCA', 'ACGCAC', 'CGCACT', 'GCACTT', 'CACTTA', 'ACTTAG', 'CTTAGA', 'TTAGAG']\n"
     ]
    }
   ],
   "source": [
    "print(sample[:100])"
   ]
  }
 ],
 "metadata": {
  "kernelspec": {
   "display_name": "Python 3 (ipykernel)",
   "language": "python",
   "name": "python3"
  },
  "language_info": {
   "codemirror_mode": {
    "name": "ipython",
    "version": 3
   },
   "file_extension": ".py",
   "mimetype": "text/x-python",
   "name": "python",
   "nbconvert_exporter": "python",
   "pygments_lexer": "ipython3",
   "version": "3.10.15"
  }
 },
 "nbformat": 4,
 "nbformat_minor": 2
}
