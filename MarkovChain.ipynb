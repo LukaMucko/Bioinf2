{
 "cells": [
  {
   "cell_type": "code",
   "execution_count": 54,
   "id": "c0fc4394-4fe4-47b5-ac62-7a736dc909e6",
   "metadata": {},
   "outputs": [
    {
     "name": "stdout",
     "output_type": "stream",
     "text": [
      "The autoreload extension is already loaded. To reload it, use:\n",
      "  %reload_ext autoreload\n"
     ]
    }
   ],
   "source": [
    "%load_ext autoreload\n",
    "%autoreload 2\n",
    "import markovify\n",
    "from Bio import SeqIO\n",
    "import numpy as np\n",
    "from Bio.SeqRecord import SeqRecord\n",
    "from Bio.Seq import Seq"
   ]
  },
  {
   "cell_type": "code",
   "execution_count": null,
   "id": "82d7ff8f-4029-4b65-accb-a0a2cc338993",
   "metadata": {},
   "outputs": [
    {
     "name": "stdout",
     "output_type": "stream",
     "text": [
      "Genome loaded: 4641652 bases\n"
     ]
    }
   ],
   "source": [
    "def load_genome(filepath):\n",
    "    \"\"\"\n",
    "    Load a genome sequence from a FASTA file.\n",
    "    \"\"\"\n",
    "    for record in SeqIO.parse(filepath, \"fasta\"):\n",
    "        return str(record.seq)\n",
    "\n",
    "def generate_kmers(sequence, k):\n",
    "    \"\"\"\n",
    "    Generate k-mers from a given sequence.\n",
    "    \"\"\"\n",
    "    return [sequence[i:i+k] for i in range(len(sequence) - k + 1)]\n",
    "\n",
    "# Load the genome (update the path to the actual file)\n",
    "genome = load_genome(\"escherichia_coli_reference.fasta\")\n",
    "print(f\"Genome loaded: {len(genome)} bases\")\n",
    "\n",
    "k = 50000  # Length of k-mers\n",
    "kmers = generate_kmers(genome, k)\n",
    "\n",
    "print(f\"Number of {k}-mers: {len(kmers)}\")\n",
    "\n",
    "n_kmers = len(kmers)\n",
    "unique_kmers = set(kmers)\n",
    "\n",
    "kmer_dict = {kmer: idx for idx, kmer in enumerate(unique_kmers)}\n",
    "reverse_kmer_dict = {idx: kmer for kmer, idx in kmer_dict.items()}\n",
    "base_encoder = {\"A\": 0, \"C\": 1, \"G\": 2, \"T\": 3}\n",
    "reverse_base_decoder = {0: \"A\", 1: \"C\", 2: \"G\", 3: \"T\"}"
   ]
  },
  {
   "cell_type": "code",
   "execution_count": null,
   "id": "19f44230-3e54-4d8b-899e-320fe5730d93",
   "metadata": {},
   "outputs": [],
   "source": [
    "transition_matrix = np.zeros((len(unique_kmers), 4))"
   ]
  },
  {
   "cell_type": "code",
   "execution_count": null,
   "id": "3a95cc9c-5153-4ac4-b6dc-d40fb7a25a74",
   "metadata": {},
   "outputs": [],
   "source": [
    "transition_matrix.shape"
   ]
  },
  {
   "cell_type": "code",
   "execution_count": null,
   "id": "cbe9e924-d240-4cd0-83ab-7fced6061a51",
   "metadata": {},
   "outputs": [],
   "source": [
    "starting_state = kmer_dict[kmers[0]]\n",
    "starting_state"
   ]
  },
  {
   "cell_type": "code",
   "execution_count": null,
   "id": "9d16d44e-a870-4425-91b7-bfa92fd02e6e",
   "metadata": {},
   "outputs": [],
   "source": [
    "curr = kmers[0]\n",
    "for i in range(n_kmers-1):\n",
    "    prev = kmers[i] #Previous kmer\n",
    "    curr = kmers[i+1][-1] #Next base\n",
    "    i_idx = kmer_dict[prev]\n",
    "    j_idx = base_encoder[curr]\n",
    "    transition_matrix[i_idx, j_idx]+=1"
   ]
  },
  {
   "cell_type": "code",
   "execution_count": null,
   "id": "c8c3055a-ef0a-42ca-97b1-299ec2416e42",
   "metadata": {},
   "outputs": [],
   "source": [
    "final_state = np.where(np.sum(transition_matrix, axis=1) == 0.)[0]\n",
    "mask = np.ones(transition_matrix.shape[0], dtype=bool)\n",
    "mask[final_state] = False"
   ]
  },
  {
   "cell_type": "code",
   "execution_count": null,
   "id": "fc3dd0f0-0034-4023-aeaa-adee102c4557",
   "metadata": {},
   "outputs": [],
   "source": [
    "if final_state.size != 0:\n",
    "    transition_matrix[mask] = transition_matrix[mask] / np.sum(transition_matrix[mask], axis=1)[:, None]\n",
    "else:\n",
    "    transition_matrix = transition_matrix / np.sum(transition_matrix, axis=1)[:, None]"
   ]
  },
  {
   "cell_type": "code",
   "execution_count": null,
   "id": "564310b2-04c0-4883-8067-07e862f766df",
   "metadata": {},
   "outputs": [],
   "source": [
    "transition_matrix"
   ]
  },
  {
   "cell_type": "code",
   "execution_count": 111,
   "id": "f6ebb1bb-1d5b-4be6-86bc-219635565f17",
   "metadata": {},
   "outputs": [
    {
     "data": {
      "text/plain": [
       "np.int64(1)"
      ]
     },
     "execution_count": 111,
     "metadata": {},
     "output_type": "execute_result"
    }
   ],
   "source": [
    "(np.sum(transition_matrix, axis=1)==0).sum()"
   ]
  },
  {
   "cell_type": "code",
   "execution_count": 112,
   "id": "299d7671-82b5-4fb8-8792-a4aabde23414",
   "metadata": {},
   "outputs": [
    {
     "data": {
      "text/plain": [
       "np.int64(4578839)"
      ]
     },
     "execution_count": 112,
     "metadata": {},
     "output_type": "execute_result"
    }
   ],
   "source": [
    "np.isclose(np.sum(transition_matrix, 1), 1).sum()"
   ]
  },
  {
   "cell_type": "code",
   "execution_count": 113,
   "id": "a8855041-c8f5-45e1-bbba-6c9267d86496",
   "metadata": {},
   "outputs": [],
   "source": [
    "def sample_sequence(transition_matrix, reverse_kmer_dict, base_decoder, starting_state, sequence_length, final_state = None):\n",
    "    \"\"\"\n",
    "    Generate a random sequence from the Markov chain.\n",
    "    \n",
    "    Parameters:\n",
    "    - transition_matrix: The normalized transition matrix (rows sum to 1).\n",
    "    - reverse_kmer_dict: Dictionary to decode integer indices back to k-mers.\n",
    "    - base_decoder: Dictionary mapping integers to bases (reverse of base_encoder).\n",
    "    - starting_state: The index of the starting k-mer.\n",
    "    - sequence_length: The desired length of the generated sequence.\n",
    "    \n",
    "    Returns:\n",
    "    - A string representing the generated sequence.\n",
    "    \"\"\"\n",
    "    current_state = starting_state\n",
    "    kmer = reverse_kmer_dict[current_state]\n",
    "    k = len(kmer)\n",
    "\n",
    "    # Initialize a list for sequence construction\n",
    "    sequence = list(kmer)\n",
    "\n",
    "    cumulative_probs = np.cumsum(transition_matrix, axis=1)\n",
    "    for _ in range(sequence_length - k):\n",
    "        rand_val = np.random.rand()\n",
    "        next_base_idx = np.searchsorted(cumulative_probs[current_state], rand_val)\n",
    "        next_base = base_decoder[next_base_idx]\n",
    "\n",
    "        # Append the sampled base to the sequence\n",
    "        sequence.append(next_base)\n",
    "\n",
    "        # Shift the k-mer to include the next base\n",
    "        next_kmer = ''.join(sequence[-k:])\n",
    "        current_state = kmer_dict[next_kmer]\n",
    "        if next_base_idx == final_state:\n",
    "            break\n",
    "\n",
    "    # Convert the list of characters back to a string\n",
    "    return ''.join(sequence)"
   ]
  },
  {
   "cell_type": "code",
   "execution_count": 114,
   "id": "887f36a3-29e2-48e0-a8ba-342e6ac4811f",
   "metadata": {},
   "outputs": [],
   "source": [
    "sampled_sequence = sample_sequence(transition_matrix, reverse_kmer_dict, reverse_base_decoder, starting_state, len(genome), None)"
   ]
  },
  {
   "cell_type": "code",
   "execution_count": 115,
   "id": "26ba2171-ff20-4617-ab2a-cc91369479bd",
   "metadata": {},
   "outputs": [
    {
     "name": "stdout",
     "output_type": "stream",
     "text": [
      "AGCTTTTCATTCTGACTGCA\n"
     ]
    }
   ],
   "source": [
    "print(sampled_sequence[:20])"
   ]
  },
  {
   "cell_type": "code",
   "execution_count": 116,
   "id": "abec15d1-bb57-4628-94d6-4a0a3667bd92",
   "metadata": {},
   "outputs": [
    {
     "name": "stdout",
     "output_type": "stream",
     "text": [
      "AGCTTTTCATTCTGACTGCA\n"
     ]
    }
   ],
   "source": [
    "print(genome[:20])"
   ]
  },
  {
   "cell_type": "code",
   "execution_count": 117,
   "id": "878fee02-6c34-4433-b191-41346f3f1c5d",
   "metadata": {},
   "outputs": [],
   "source": [
    "def save_to_fasta(sequence, output_path, sequence_id=\"sampled_sequence\"):\n",
    "    # Create a SeqRecord\n",
    "    record = SeqRecord(Seq(sequence),\n",
    "                       id=sequence_id,\n",
    "                       description=\"Generated sampled sequence\")\n",
    "    with open(output_path, \"w\") as fasta_file:\n",
    "        SeqIO.write(record, fasta_file, \"fasta\")"
   ]
  },
  {
   "cell_type": "code",
   "execution_count": 118,
   "id": "d52df66b-4773-4aa7-8902-a9775085da3d",
   "metadata": {},
   "outputs": [],
   "source": [
    "save_to_fasta(sampled_sequence, \"sampled_sequence.fasta\")"
   ]
  },
  {
   "cell_type": "code",
   "execution_count": 119,
   "id": "ead35246-809a-4e8b-b42f-b0b2b2814d26",
   "metadata": {},
   "outputs": [
    {
     "data": {
      "text/plain": [
       "0.08779632768678049"
      ]
     },
     "execution_count": 119,
     "metadata": {},
     "output_type": "execute_result"
    }
   ],
   "source": [
    "407520/len(genome)"
   ]
  }
 ],
 "metadata": {
  "kernelspec": {
   "display_name": "Python 3 (ipykernel)",
   "language": "python",
   "name": "python3"
  },
  "language_info": {
   "codemirror_mode": {
    "name": "ipython",
    "version": 3
   },
   "file_extension": ".py",
   "mimetype": "text/x-python",
   "name": "python",
   "nbconvert_exporter": "python",
   "pygments_lexer": "ipython3",
   "version": "3.10.15"
  }
 },
 "nbformat": 4,
 "nbformat_minor": 5
}
