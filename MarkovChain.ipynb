{
 "cells": [
  {
   "cell_type": "code",
   "execution_count": 1,
   "id": "c0fc4394-4fe4-47b5-ac62-7a736dc909e6",
   "metadata": {},
   "outputs": [],
   "source": [
    "%load_ext autoreload\n",
    "%autoreload 2\n",
    "import markovify\n",
    "from Bio import SeqIO\n",
    "import numpy as np"
   ]
  },
  {
   "cell_type": "code",
   "execution_count": 9,
   "id": "82d7ff8f-4029-4b65-accb-a0a2cc338993",
   "metadata": {},
   "outputs": [
    {
     "name": "stdout",
     "output_type": "stream",
     "text": [
      "Genome loaded: 4641652 bases\n",
      "Number of 10-mers: 4641643\n"
     ]
    }
   ],
   "source": [
    "def load_genome(filepath):\n",
    "    \"\"\"\n",
    "    Load a genome sequence from a FASTA file.\n",
    "    \"\"\"\n",
    "    for record in SeqIO.parse(filepath, \"fasta\"):\n",
    "        return str(record.seq)\n",
    "\n",
    "def generate_kmers(sequence, k):\n",
    "    \"\"\"\n",
    "    Generate k-mers from a given sequence.\n",
    "    \"\"\"\n",
    "    return [sequence[i:i+k] for i in range(len(sequence) - k + 1)]\n",
    "\n",
    "# Load the genome (update the path to the actual file)\n",
    "genome = load_genome(\"escherichia_coli_reference.fasta\")\n",
    "print(f\"Genome loaded: {len(genome)} bases\")\n",
    "\n",
    "k = 10  # Length of k-mers\n",
    "kmers = generate_kmers(genome, k)\n",
    "\n",
    "print(f\"Number of {k}-mers: {len(kmers)}\")\n",
    "\n",
    "n_kmers = len(kmers)\n",
    "unique_kmers = set(kmers)\n",
    "\n",
    "kmer_dict = {kmer: idx for idx, kmer in enumerate(unique_kmers)}\n",
    "reverse_kmer_dict = {idx: kmer for kmer, idx in kmer_dict.items()}\n",
    "base_encoder = {\"A\": 0, \"C\": 1, \"G\": 2, \"T\": 3}\n",
    "reverse_base_decoder = {0: \"A\", 1: \"C\", 2: \"G\", 3: \"T\"}"
   ]
  },
  {
   "cell_type": "code",
   "execution_count": 3,
   "id": "19f44230-3e54-4d8b-899e-320fe5730d93",
   "metadata": {},
   "outputs": [],
   "source": [
    "transition_matrix = np.zeros((len(unique_kmers), 4))"
   ]
  },
  {
   "cell_type": "code",
   "execution_count": 4,
   "id": "3a95cc9c-5153-4ac4-b6dc-d40fb7a25a74",
   "metadata": {},
   "outputs": [
    {
     "data": {
      "text/plain": [
       "(898115, 4)"
      ]
     },
     "execution_count": 4,
     "metadata": {},
     "output_type": "execute_result"
    }
   ],
   "source": [
    "transition_matrix.shape"
   ]
  },
  {
   "cell_type": "code",
   "execution_count": 7,
   "id": "cbe9e924-d240-4cd0-83ab-7fced6061a51",
   "metadata": {},
   "outputs": [
    {
     "data": {
      "text/plain": [
       "65703"
      ]
     },
     "execution_count": 7,
     "metadata": {},
     "output_type": "execute_result"
    }
   ],
   "source": [
    "starting_state = kmer_dict[kmers[0]]\n",
    "starting_state"
   ]
  },
  {
   "cell_type": "code",
   "execution_count": 5,
   "id": "9d16d44e-a870-4425-91b7-bfa92fd02e6e",
   "metadata": {},
   "outputs": [],
   "source": [
    "curr = kmers[0]\n",
    "for i in range(n_kmers-1):\n",
    "    prev = kmers[i] #Previous kmer\n",
    "    curr = kmers[i+1][-1] #Next base\n",
    "    i_idx = kmer_dict[prev]\n",
    "    j_idx = base_encoder[curr]\n",
    "    transition_matrix[i_idx, j_idx]+=1"
   ]
  },
  {
   "cell_type": "code",
   "execution_count": 6,
   "id": "fc3dd0f0-0034-4023-aeaa-adee102c4557",
   "metadata": {},
   "outputs": [],
   "source": [
    "transition_matrix = transition_matrix / np.sum(transition_matrix, axis=1)[:, None]"
   ]
  },
  {
   "cell_type": "code",
   "execution_count": 16,
   "id": "a8855041-c8f5-45e1-bbba-6c9267d86496",
   "metadata": {},
   "outputs": [],
   "source": [
    "def sample_sequence(transition_matrix, reverse_kmer_dict, base_decoder, starting_state, sequence_length):\n",
    "    \"\"\"\n",
    "    Generate a random sequence from the Markov chain.\n",
    "    \n",
    "    Parameters:\n",
    "    - transition_matrix: The normalized transition matrix (rows sum to 1).\n",
    "    - reverse_kmer_dict: Dictionary to decode integer indices back to k-mers.\n",
    "    - base_decoder: Dictionary mapping integers to bases (reverse of base_encoder).\n",
    "    - starting_state: The index of the starting k-mer.\n",
    "    - sequence_length: The desired length of the generated sequence.\n",
    "    \n",
    "    Returns:\n",
    "    - A string representing the generated sequence.\n",
    "    \"\"\"\n",
    "    current_state = starting_state\n",
    "    kmer = reverse_kmer_dict[current_state]\n",
    "    k = len(kmer)\n",
    "\n",
    "    # Initialize a list for sequence construction\n",
    "    sequence = list(kmer)\n",
    "\n",
    "    cumulative_probs = np.cumsum(transition_matrix, axis=1)\n",
    "\n",
    "    for _ in range(sequence_length - k):\n",
    "        rand_val = np.random.rand()\n",
    "        next_base_idx = np.searchsorted(cumulative_probs[current_state], rand_val)\n",
    "        next_base = base_decoder[next_base_idx]\n",
    "\n",
    "        # Append the sampled base to the sequence\n",
    "        sequence.append(next_base)\n",
    "\n",
    "        # Shift the k-mer to include the next base\n",
    "        next_kmer = ''.join(sequence[-k:])\n",
    "        current_state = kmer_dict[next_kmer]\n",
    "\n",
    "    # Convert the list of characters back to a string\n",
    "    return ''.join(sequence)"
   ]
  },
  {
   "cell_type": "code",
   "execution_count": 17,
   "id": "887f36a3-29e2-48e0-a8ba-342e6ac4811f",
   "metadata": {},
   "outputs": [],
   "source": [
    "sampled_sequence = sample_sequence(transition_matrix, reverse_kmer_dict, reverse_base_decoder, starting_state, 4641652)"
   ]
  },
  {
   "cell_type": "code",
   "execution_count": 18,
   "id": "465af98b-4397-460a-a784-56ae8f150486",
   "metadata": {},
   "outputs": [
    {
     "name": "stdout",
     "output_type": "stream",
     "text": [
      "12.4 s ± 55 ms per loop (mean ± std. dev. of 7 runs, 1 loop each)\n"
     ]
    }
   ],
   "source": [
    "%timeit sample_sequence(transition_matrix, reverse_kmer_dict, reverse_base_decoder, starting_state, 4641652)"
   ]
  },
  {
   "cell_type": "code",
   "execution_count": 19,
   "id": "86d16bd2-6df8-4553-b4da-1f8bc3edb8b7",
   "metadata": {},
   "outputs": [
    {
     "data": {
      "text/plain": [
       "'AGCTTTTCATACAGGCGGCG'"
      ]
     },
     "execution_count": 19,
     "metadata": {},
     "output_type": "execute_result"
    }
   ],
   "source": [
    "sampled_sequence[:20]"
   ]
  },
  {
   "cell_type": "code",
   "execution_count": 20,
   "id": "fdffa5f8-4dc9-4021-8f36-6b66255dcb1b",
   "metadata": {},
   "outputs": [
    {
     "data": {
      "text/plain": [
       "'AGCTTTTCATTCTGACTGCA'"
      ]
     },
     "execution_count": 20,
     "metadata": {},
     "output_type": "execute_result"
    }
   ],
   "source": [
    "genome[:20]"
   ]
  },
  {
   "cell_type": "code",
   "execution_count": 21,
   "id": "c42be62a-0daa-4707-9e46-19c788ead2e1",
   "metadata": {},
   "outputs": [],
   "source": [
    "with open(\"novi_gen2.txt\", \"w\") as f:\n",
    "    f.write(sampled_sequence)"
   ]
  }
 ],
 "metadata": {
  "kernelspec": {
   "display_name": "Python 3 (ipykernel)",
   "language": "python",
   "name": "python3"
  },
  "language_info": {
   "codemirror_mode": {
    "name": "ipython",
    "version": 3
   },
   "file_extension": ".py",
   "mimetype": "text/x-python",
   "name": "python",
   "nbconvert_exporter": "python",
   "pygments_lexer": "ipython3",
   "version": "3.10.15"
  }
 },
 "nbformat": 4,
 "nbformat_minor": 5
}
